{
 "cells": [
  {
   "cell_type": "markdown",
   "id": "4564653b-dfe7-4d6e-af6d-94d899073dec",
   "metadata": {},
   "source": [
    "Qiskit Basic Programming course material, Author: Daisaku Yokomatsu, Date: Jan 31,2025"
   ]
  },
  {
   "cell_type": "markdown",
   "id": "e578b30d-648d-4218-ab2e-5d22e8d3b36e",
   "metadata": {},
   "source": [
    "####   ２量子ビットとCXゲート"
   ]
  },
  {
   "cell_type": "markdown",
   "id": "7b849c32-a355-4649-b0cf-5c159db11170",
   "metadata": {},
   "source": [
    "<div class=\"alert alert-block alert-success\">\n",
    "<b>このプログラムの目的：</b> ２量子ビットの状態ベクトルとCNOTゲートの動作などコード例を示すものです。\n",
    "</div>"
   ]
  },
  {
   "cell_type": "markdown",
   "id": "8ddb170e-f241-440b-a40e-43d1d645942b",
   "metadata": {},
   "source": [
    "####　２量子ビットの場合の状態ベクトル"
   ]
  },
  {
   "cell_type": "code",
   "execution_count": 1,
   "id": "4e1b10d1-a296-4ebb-a25d-6e064225f52d",
   "metadata": {},
   "outputs": [
    {
     "name": "stdout",
     "output_type": "stream",
     "text": [
      "Statevector([0.+0.j, 1.+0.j, 0.+0.j, 0.+0.j],\n",
      "            dims=(2, 2))\n"
     ]
    },
    {
     "data": {
      "text/latex": [
       "$$ |01\\rangle$$"
      ],
      "text/plain": [
       "<IPython.core.display.Latex object>"
      ]
     },
     "metadata": {},
     "output_type": "display_data"
    }
   ],
   "source": [
    "from qiskit.quantum_info import Statevector\n",
    "from qiskit import QuantumCircuit\n",
    "import numpy as np\n",
    "\n",
    "# 2量子ビットの状態ベクトルを作成　\n",
    "# Qiskitでは、LSB (Least Significant Bit) 順序を採用しているため、右端のビットがインデックスの小さい量子ビットに対応\n",
    "state = Statevector([0, 1, 0, 0])\n",
    "\n",
    "# 状態ベクトルを表示\n",
    "print(state)\n",
    "\n",
    "# LaTeX形式で状態を表示\n",
    "display(state.draw('latex'))\n"
   ]
  },
  {
   "cell_type": "code",
   "execution_count": 2,
   "id": "5b50ae30-1867-444b-80eb-27afec2c794c",
   "metadata": {},
   "outputs": [
    {
     "name": "stdout",
     "output_type": "stream",
     "text": [
      "Statevector([0.+0.j, 1.+0.j, 0.+0.j, 0.+0.j],\n",
      "            dims=(2, 2))\n"
     ]
    }
   ],
   "source": [
    "# |0>と|1>の状態ベクトルを作成\n",
    "state_0 = Statevector.from_label('0')\n",
    "state_1 = Statevector.from_label('1')\n",
    "\n",
    "# テンソル積を計算\n",
    "tensor_product = state_0.tensor(state_1)\n",
    "\n",
    "# 結果を表示\n",
    "print(tensor_product)\n"
   ]
  },
  {
   "cell_type": "code",
   "execution_count": 3,
   "id": "46a055d8-d4c9-4499-af7f-976f7633d45f",
   "metadata": {
    "scrolled": true
   },
   "outputs": [
    {
     "data": {
      "text/latex": [
       "$$ |01\\rangle$$"
      ],
      "text/plain": [
       "<IPython.core.display.Latex object>"
      ]
     },
     "metadata": {},
     "output_type": "display_data"
    }
   ],
   "source": [
    "display(tensor_product.draw('latex'))"
   ]
  },
  {
   "cell_type": "code",
   "execution_count": 4,
   "id": "d30208de-5125-43f4-969c-8ba37ac8f0f9",
   "metadata": {},
   "outputs": [
    {
     "name": "stdout",
     "output_type": "stream",
     "text": [
      "Statevector([0.+0.j, 0.+0.j, 0.+0.j, 1.+0.j],\n",
      "            dims=(2, 2))\n"
     ]
    }
   ],
   "source": [
    "# テンソル積を計算\n",
    "tensor_product = state_1.tensor(state_1)\n",
    "\n",
    "# 結果を表示\n",
    "print(tensor_product)\n"
   ]
  },
  {
   "cell_type": "code",
   "execution_count": 5,
   "id": "3ba22dfe-ab5e-4073-aabf-fe15d9919fef",
   "metadata": {
    "scrolled": true
   },
   "outputs": [
    {
     "data": {
      "text/latex": [
       "$$ |11\\rangle$$"
      ],
      "text/plain": [
       "<IPython.core.display.Latex object>"
      ]
     },
     "execution_count": 5,
     "metadata": {},
     "output_type": "execute_result"
    }
   ],
   "source": [
    "tensor_product.draw('latex')"
   ]
  },
  {
   "cell_type": "markdown",
   "id": "8a19f8c3-c894-473f-8917-457c3fabe2ea",
   "metadata": {},
   "source": [
    "#### CNOT（CX）ゲートの動作　"
   ]
  },
  {
   "cell_type": "markdown",
   "id": "7ae72c94-dcf2-4d4e-88fa-6a0aea4d56a0",
   "metadata": {},
   "source": [
    "##### ${\\rm CNOT}|10\\rangle = |11\\rangle$"
   ]
  },
  {
   "cell_type": "code",
   "execution_count": 6,
   "id": "199af558-d731-497a-8529-ac7fecada362",
   "metadata": {},
   "outputs": [
    {
     "name": "stdout",
     "output_type": "stream",
     "text": [
      "Initial state: Statevector([0.+0.j, 1.+0.j, 0.+0.j, 0.+0.j],\n",
      "            dims=(2, 2))\n",
      "Final state after CX gate: Statevector([0.+0.j, 0.+0.j, 0.+0.j, 1.+0.j],\n",
      "            dims=(2, 2))\n"
     ]
    }
   ],
   "source": [
    "from qiskit import QuantumCircuit\n",
    "from qiskit.quantum_info import Statevector\n",
    "\n",
    "# 2量子ビットの状態作成\n",
    "state = state_0.tensor(state_1)\n",
    "\n",
    "# 量子回路を作成\n",
    "qc = QuantumCircuit(2)\n",
    "\n",
    "# 初期状態を設定\n",
    "qc.initialize(state, [0, 1])\n",
    "\n",
    "# CXゲートを適用\n",
    "qc.cx(0, 1)\n",
    "\n",
    "# 結果の状態ベクトルを取得\n",
    "final_state = Statevector(qc)\n",
    "\n",
    "print(\"Initial state:\", state)\n",
    "print(\"Final state after CX gate:\", final_state)\n"
   ]
  },
  {
   "cell_type": "code",
   "execution_count": 7,
   "id": "bc7778a3-9b6a-4a02-97de-b4692f317ab9",
   "metadata": {},
   "outputs": [
    {
     "data": {
      "text/latex": [
       "$$ |01\\rangle$$"
      ],
      "text/plain": [
       "<IPython.core.display.Latex object>"
      ]
     },
     "metadata": {},
     "output_type": "display_data"
    }
   ],
   "source": [
    "display(state.draw('latex'))"
   ]
  },
  {
   "cell_type": "code",
   "execution_count": 8,
   "id": "7d490cb8-ddd3-4d8a-8e6f-3df7e9d07118",
   "metadata": {},
   "outputs": [
    {
     "data": {
      "text/latex": [
       "$$ |11\\rangle$$"
      ],
      "text/plain": [
       "<IPython.core.display.Latex object>"
      ]
     },
     "metadata": {},
     "output_type": "display_data"
    }
   ],
   "source": [
    "display(final_state.draw('latex'))"
   ]
  },
  {
   "cell_type": "code",
   "execution_count": 9,
   "id": "1daec588-3439-441c-8be9-47acd0a15345",
   "metadata": {
    "scrolled": true
   },
   "outputs": [
    {
     "data": {
      "image/png": "[encoded data removed]",
      "text/plain": [
       "<Figure size 370.906x200.667 with 1 Axes>"
      ]
     },
     "execution_count": 9,
     "metadata": {},
     "output_type": "execute_result"
    }
   ],
   "source": [
    "qc.draw('mpl')"
   ]
  },
  {
   "cell_type": "markdown",
   "id": "dee2bf18-30d4-4f6a-84ed-d30786c0a587",
   "metadata": {},
   "source": [
    "##### ${\\rm CNOT}|11\\rangle = |10\\rangle$"
   ]
  },
  {
   "cell_type": "code",
   "execution_count": 10,
   "id": "690b097c-0374-4a9e-b395-509eac489aae",
   "metadata": {},
   "outputs": [
    {
     "name": "stdout",
     "output_type": "stream",
     "text": [
      "Initial state: Statevector([0.+0.j, 0.+0.j, 0.+0.j, 1.+0.j],\n",
      "            dims=(2, 2))\n",
      "Final state after CX gate: Statevector([0.+0.j, 1.+0.j, 0.+0.j, 0.+0.j],\n",
      "            dims=(2, 2))\n"
     ]
    }
   ],
   "source": [
    "from qiskit import QuantumCircuit\n",
    "from qiskit.quantum_info import Statevector\n",
    "\n",
    "# 2量子ビットの状態を作成\n",
    "state = state_1.tensor(state_1) \n",
    "\n",
    "# 量子回路を作成\n",
    "qc = QuantumCircuit(2)\n",
    "\n",
    "# 初期状態を設定\n",
    "qc.initialize(state, [0, 1])\n",
    "\n",
    "# CXゲートを適用\n",
    "qc.cx(0, 1)\n",
    "\n",
    "# 結果の状態ベクトルを取得\n",
    "final_state = Statevector(qc)\n",
    "\n",
    "print(\"Initial state:\", state)\n",
    "print(\"Final state after CX gate:\", final_state)\n"
   ]
  },
  {
   "cell_type": "code",
   "execution_count": 11,
   "id": "3e0874f7-a983-48a7-ba20-0a9cfdab2f64",
   "metadata": {},
   "outputs": [
    {
     "data": {
      "text/latex": [
       "$$ |11\\rangle$$"
      ],
      "text/plain": [
       "<IPython.core.display.Latex object>"
      ]
     },
     "metadata": {},
     "output_type": "display_data"
    }
   ],
   "source": [
    "display(state.draw('latex'))"
   ]
  },
  {
   "cell_type": "code",
   "execution_count": 12,
   "id": "7bd1873e-3430-423c-b294-fd78117c64af",
   "metadata": {},
   "outputs": [
    {
     "data": {
      "text/latex": [
       "$$ |01\\rangle$$"
      ],
      "text/plain": [
       "<IPython.core.display.Latex object>"
      ]
     },
     "metadata": {},
     "output_type": "display_data"
    }
   ],
   "source": [
    "display(final_state.draw('latex'))"
   ]
  },
  {
   "cell_type": "code",
   "execution_count": 13,
   "id": "3b43a905-1a93-4dab-9be5-bb5b3550c2dc",
   "metadata": {},
   "outputs": [
    {
     "data": {
      "image/png": "[encoded data removed]",
      "text/plain": [
       "<Figure size 370.906x200.667 with 1 Axes>"
      ]
     },
     "execution_count": 13,
     "metadata": {},
     "output_type": "execute_result"
    }
   ],
   "source": [
    "qc.draw('mpl')"
   ]
  },
  {
   "cell_type": "markdown",
   "id": "31d3820f-f981-46fb-8aaf-629127a12453",
   "metadata": {},
   "source": [
    "#### CX, CCX, MCXゲートの例"
   ]
  },
  {
   "cell_type": "code",
   "execution_count": 14,
   "id": "610c60d7-ebf2-4de9-9377-162597ca920f",
   "metadata": {},
   "outputs": [
    {
     "data": {
      "image/jpeg": "[encoded data removed]",
      "image/png": "[encoded data removed]",
      "text/plain": [
       "<PIL.Image.Image image mode=RGB size=119x51>"
      ]
     },
     "execution_count": 14,
     "metadata": {},
     "output_type": "execute_result"
    }
   ],
   "source": [
    "qc = QuantumCircuit(2)\n",
    "qc.cx(0,1)\n",
    "qc.draw('latex')"
   ]
  },
  {
   "cell_type": "code",
   "execution_count": 15,
   "id": "624010c8-2eb7-4a0d-8b31-9554c67f9882",
   "metadata": {},
   "outputs": [
    {
     "data": {
      "text/html": [
       "<pre style=\"word-wrap: normal;white-space: pre;background: #fff0;line-height: 1.1;font-family: &quot;Courier New&quot;,Courier,monospace\">          \n",
       "q_0: ──■──\n",
       "     ┌─┴─┐\n",
       "q_1: ┤ X ├\n",
       "     └───┘</pre>"
      ],
      "text/plain": [
       "          \n",
       "q_0: ──■──\n",
       "     ┌─┴─┐\n",
       "q_1: ┤ X ├\n",
       "     └───┘"
      ]
     },
     "execution_count": 15,
     "metadata": {},
     "output_type": "execute_result"
    }
   ],
   "source": [
    "qc = QuantumCircuit(2)\n",
    "qc.cx(0,1)\n",
    "qc.draw('text')"
   ]
  },
  {
   "cell_type": "code",
   "execution_count": 16,
   "id": "fd3440d5-73ad-479c-86ab-a6111571a813",
   "metadata": {},
   "outputs": [
    {
     "data": {
      "image/png": "[encoded data removed]",
      "text/plain": [
       "<Figure size 203.683x200.667 with 1 Axes>"
      ]
     },
     "execution_count": 16,
     "metadata": {},
     "output_type": "execute_result"
    }
   ],
   "source": [
    "qc = QuantumCircuit(2)\n",
    "qc.cx(0,1)\n",
    "qc.draw('mpl')"
   ]
  },
  {
   "cell_type": "code",
   "execution_count": 17,
   "id": "b8f80bd0-b2d4-4a1c-9f75-482d63ac2720",
   "metadata": {},
   "outputs": [
    {
     "data": {
      "image/png": "[encoded data removed]",
      "text/plain": [
       "<Figure size 203.885x284.278 with 1 Axes>"
      ]
     },
     "execution_count": 17,
     "metadata": {},
     "output_type": "execute_result"
    }
   ],
   "source": [
    "qc = QuantumCircuit(3)\n",
    "qc.ccx(0,1,2)\n",
    "qc.draw('mpl')"
   ]
  },
  {
   "cell_type": "code",
   "execution_count": 18,
   "id": "b941d966-a803-4379-affa-136e0d791a92",
   "metadata": {},
   "outputs": [
    {
     "data": {
      "image/png": "[encoded data removed]",
      "text/plain": [
       "<Figure size 203.885x284.278 with 1 Axes>"
      ]
     },
     "execution_count": 18,
     "metadata": {},
     "output_type": "execute_result"
    }
   ],
   "source": [
    "qc = QuantumCircuit(3)\n",
    "\n",
    "# mcxゲートを適用（2つの制御ビットと1つのターゲットビット）\n",
    "qc.mcx([0, 1], 2)\n",
    "qc.draw('mpl')"
   ]
  },
  {
   "cell_type": "code",
   "execution_count": 19,
   "id": "9b2eb8a1-9cf2-4f89-9476-63ad4c53897d",
   "metadata": {},
   "outputs": [
    {
     "data": {
      "image/png": "[encoded data removed]",
      "text/plain": [
       "<Figure size 203.885x367.889 with 1 Axes>"
      ]
     },
     "execution_count": 19,
     "metadata": {},
     "output_type": "execute_result"
    }
   ],
   "source": [
    "qc = QuantumCircuit(4)\n",
    "\n",
    "# mcxゲートを適用（3つの制御ビットと1つのターゲットビット）\n",
    "qc.mcx([0, 1, 2], 3)\n",
    "qc.draw('mpl')"
   ]
  },
  {
   "cell_type": "markdown",
   "id": "9c018365-84b3-4eb1-b9d5-39ba0a9b83da",
   "metadata": {},
   "source": [
    "---"
   ]
  },
  {
   "cell_type": "markdown",
   "id": "515a7576-c438-4d94-a23e-a89cf69e0cab",
   "metadata": {},
   "source": [
    "####  Python, Qiskitのバージョン情報"
   ]
  },
  {
   "cell_type": "code",
   "execution_count": 20,
   "id": "ab2bcc60-4419-4c70-8672-83eda33a82e8",
   "metadata": {},
   "outputs": [
    {
     "name": "stdout",
     "output_type": "stream",
     "text": [
      "3.11.9 | packaged by conda-forge | (main, Apr 19 2024, 18:36:13) [GCC 12.3.0]\n"
     ]
    }
   ],
   "source": [
    "import sys\n",
    "print(sys.version)"
   ]
  },
  {
   "cell_type": "code",
   "execution_count": 21,
   "id": "349509fa-3f59-4236-b45d-17538a83594e",
   "metadata": {},
   "outputs": [
    {
     "name": "stdout",
     "output_type": "stream",
     "text": [
      "Qiskit version: 1.2.0\n"
     ]
    }
   ],
   "source": [
    "import qiskit\n",
    "print(\"Qiskit version:\", qiskit.__version__)"
   ]
  },
  {
   "cell_type": "code",
   "execution_count": null,
   "id": "7e548717-d2a8-4e89-b0df-9d21fe593d90",
   "metadata": {},
   "outputs": [],
   "source": []
  }
 ],
 "metadata": {
  "kernelspec": {
   "display_name": "Python 3 [Qiskit 1.2.0]",
   "language": "python",
   "name": "python3_qiskit_9vrlwn"
  },
  "language_info": {
   "codemirror_mode": {
    "name": "ipython",
    "version": 3
   },
   "file_extension": ".py",
   "mimetype": "text/x-python",
   "name": "python",
   "nbconvert_exporter": "python",
   "pygments_lexer": "ipython3",
   "version": "3.11.9"
  }
 },
 "nbformat": 4,
 "nbformat_minor": 5
}
