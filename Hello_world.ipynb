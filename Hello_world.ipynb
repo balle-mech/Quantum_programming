{
 "cells": [
  {
   "cell_type": "markdown",
   "id": "0225febd-fc67-4213-950b-92f2b72a543a",
   "metadata": {},
   "source": [
    "######                                    Qiskit Basic Programming course material,  Author: Daisaku Yokomatsu  Date: Nov.4,2024"
   ]
  },
  {
   "cell_type": "markdown",
   "id": "6df81b50-78b7-4a75-9a56-7271e694cbac",
   "metadata": {},
   "source": [
    "### 'Hello, world'  Qiskit code -- Quantum Entanglement　"
   ]
  },
  {
   "cell_type": "markdown",
   "id": "2183bdc3-fdd0-4c4f-aa98-3b896f859538",
   "metadata": {},
   "source": [
    "<div class=\"alert alert-block alert-success\">\n",
    "<b>このプログラムの目的</b> 試しにQiskit環境を使って、量子もつれの状態をつくり、その測定を行うプログラムを実行してみるものです。\n",
    "</div>"
   ]
  },
  {
   "cell_type": "markdown",
   "id": "2414a153-fdfd-488f-aae8-e37960c57df9",
   "metadata": {},
   "source": [
    "#### 量子もつれ状態をつくり、測定する"
   ]
  },
  {
   "cell_type": "markdown",
   "id": "1f7e8be2-6a55-462b-a157-e3f3cf1f6414",
   "metadata": {},
   "source": [
    "$$ |\\psi\\rangle = \\frac{1}{\\sqrt{2}}|00\\rangle + \\frac{1}{\\sqrt{2}}|11\\rangle $$"
   ]
  },
  {
   "cell_type": "code",
   "execution_count": 1,
   "id": "a9e79d39-94ad-4030-8520-825d5fdfbe35",
   "metadata": {},
   "outputs": [],
   "source": [
    "from qiskit_aer import AerSimulator\n",
    "from qiskit.circuit import QuantumCircuit\n",
    "from qiskit import transpile\n",
    "from qiskit.visualization import plot_histogram"
   ]
  },
  {
   "cell_type": "markdown",
   "id": "d6a13098-2e99-4648-8098-897a9555a768",
   "metadata": {},
   "source": [
    "#### 量子回路を構成"
   ]
  },
  {
   "cell_type": "code",
   "execution_count": 2,
   "id": "c92bf28a-286a-44c2-83ca-0b4caaf253c8",
   "metadata": {},
   "outputs": [
    {
     "data": {
      "image/png": "[encoded data removed]",
      "text/plain": [
       "<Figure size 454.517x284.278 with 1 Axes>"
      ]
     },
     "execution_count": 2,
     "metadata": {},
     "output_type": "execute_result"
    }
   ],
   "source": [
    "qc = QuantumCircuit(2,2)\n",
    "qc.h(0)\n",
    "qc.cx(0,1)\n",
    "qc.measure(0,0)\n",
    "qc.measure(1,1)\n",
    "qc.draw('mpl')"
   ]
  },
  {
   "cell_type": "markdown",
   "id": "0e5c8589-817f-4967-88ba-e41a9582a643",
   "metadata": {},
   "source": [
    "#### 量子回路を実行するバックエンドとしてAerSimulatorを指定し、実行する"
   ]
  },
  {
   "cell_type": "code",
   "execution_count": 3,
   "id": "dc58b2c1-ba61-4efe-b8a1-6d527931ba93",
   "metadata": {},
   "outputs": [],
   "source": [
    "backend = AerSimulator()"
   ]
  },
  {
   "cell_type": "code",
   "execution_count": 4,
   "id": "d38a510a-ed33-4e18-8c8e-3e475657c64d",
   "metadata": {},
   "outputs": [],
   "source": [
    "job = backend.run(qc)"
   ]
  },
  {
   "cell_type": "code",
   "execution_count": 5,
   "id": "3dd98a1f-987a-4b5e-83f1-d8d164b9b426",
   "metadata": {},
   "outputs": [],
   "source": [
    "result = job.result()"
   ]
  },
  {
   "cell_type": "markdown",
   "id": "5ba3bb21-1b7a-47f0-aa36-805a91c68b5f",
   "metadata": {},
   "source": [
    "####　実行結果から、状態ベクトルの要素ごとに測定結果をカウントする"
   ]
  },
  {
   "cell_type": "code",
   "execution_count": 6,
   "id": "b8c7ed2d-a6dc-4942-98bd-3c8ad599dfab",
   "metadata": {},
   "outputs": [],
   "source": [
    "counts = result.get_counts()"
   ]
  },
  {
   "cell_type": "code",
   "execution_count": 7,
   "id": "393654af-9f75-42ce-86ad-cdf8cb51a9dd",
   "metadata": {},
   "outputs": [
    {
     "data": {
      "text/plain": [
       "{'11': 489, '00': 535}"
      ]
     },
     "execution_count": 7,
     "metadata": {},
     "output_type": "execute_result"
    }
   ],
   "source": [
    "counts"
   ]
  },
  {
   "cell_type": "markdown",
   "id": "62a9eb38-bde2-4084-839e-e964631df5b7",
   "metadata": {},
   "source": [
    "#### 測定した結果をヒストグラムで表示する"
   ]
  },
  {
   "cell_type": "code",
   "execution_count": 8,
   "id": "a2de1827-cacd-4603-9ee5-43e1e5c9ddc4",
   "metadata": {},
   "outputs": [
    {
     "data": {
      "image/png": "[encoded data removed]",
      "text/plain": [
       "<Figure size 640x480 with 1 Axes>"
      ]
     },
     "execution_count": 8,
     "metadata": {},
     "output_type": "execute_result"
    }
   ],
   "source": [
    "plot_histogram(counts)"
   ]
  },
  {
   "cell_type": "markdown",
   "id": "29eec735-a50c-46cc-bd98-0abb9918bf9e",
   "metadata": {},
   "source": [
    "***"
   ]
  },
  {
   "cell_type": "markdown",
   "id": "c77aa51b-d1a9-4407-af7a-a211449ae986",
   "metadata": {},
   "source": [
    "####　Python, Qiskitのバージョン情報"
   ]
  },
  {
   "cell_type": "code",
   "execution_count": 9,
   "id": "9b948100-8b07-44c5-9a5f-4cad7ad88b2f",
   "metadata": {},
   "outputs": [
    {
     "name": "stdout",
     "output_type": "stream",
     "text": [
      "3.11.9 (tags/v3.11.9:de54cf5, Apr  2 2024, 10:12:12) [MSC v.1938 64 bit (AMD64)]\n"
     ]
    }
   ],
   "source": [
    "import sys\n",
    "print(sys.version)"
   ]
  },
  {
   "cell_type": "code",
   "execution_count": 10,
   "id": "dd677ec8-fcb0-4ccb-9aee-e75a3fb72ef3",
   "metadata": {},
   "outputs": [
    {
     "name": "stdout",
     "output_type": "stream",
     "text": [
      "Qiskit version: 1.2.4\n"
     ]
    }
   ],
   "source": [
    "import qiskit\n",
    "print(\"Qiskit version:\", qiskit.__version__)\n"
   ]
  },
  {
   "cell_type": "code",
   "execution_count": null,
   "id": "2a1b57f5-75cc-40b3-838b-2d5a2d8d5824",
   "metadata": {},
   "outputs": [],
   "source": []
  }
 ],
 "metadata": {
  "kernelspec": {
   "display_name": "quantum",
   "language": "python",
   "name": "python3"
  },
  "language_info": {
   "codemirror_mode": {
    "name": "ipython",
    "version": 3
   },
   "file_extension": ".py",
   "mimetype": "text/x-python",
   "name": "python",
   "nbconvert_exporter": "python",
   "pygments_lexer": "ipython3",
   "version": "3.12.8"
  }
 },
 "nbformat": 4,
 "nbformat_minor": 5
}
