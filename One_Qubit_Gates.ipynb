{
 "cells": [
  {
   "cell_type": "markdown",
   "id": "19cbf018-7118-4545-9b6c-5bda241a95a0",
   "metadata": {},
   "source": [
    "######                                    Qiskit Basic Programming course material,  Author: Daisaku Yokomatsu  Date: Dec20,2024"
   ]
  },
  {
   "cell_type": "markdown",
   "id": "38530675-eeaa-44db-a1f1-d9d153859766",
   "metadata": {},
   "source": [
    "### One Qubit Gates"
   ]
  },
  {
   "cell_type": "markdown",
   "id": "64a917b5-0e07-4487-a825-c2f094c36b1c",
   "metadata": {},
   "source": [
    "<div class=\"alert alert-block alert-success\">\n",
    "<b>このプログラムの目的</b> 1量子ビットゲートについて、$|0\\rangle,|1\\rangle$に作用させたときの結果を状態ベクトルで求めるサンプルコードを例示したものものです。\n",
    "</div>"
   ]
  },
  {
   "cell_type": "markdown",
   "id": "6dcd3800-cb28-4a8e-9d45-622011ef4db2",
   "metadata": {},
   "source": [
    "| ゲート | 計算基底での動作 | ゲートの行列表現 |\n",
    "|:---:|:---:|:---:|\n",
    "| $I$ | \\begin{aligned} & I |0 \\rangle = |0 \\rangle \\\\ & I |1 \\rangle = |1 \\rangle \\end{aligned} | \\begin{bmatrix} 1 & 0 \\\\ 0 & 1 \\end{bmatrix} |\n",
    "| $X$ | \\begin{aligned} & X |0 \\rangle = |1 \\rangle \\\\ & X |1 \\rangle = |0 \\rangle \\end{aligned} | \\begin{bmatrix} 0 & 1 \\\\ 1 & 0 \\end{bmatrix} |\n",
    "| $Y$ | \\begin{aligned} & Y |0 \\rangle = i|1 \\rangle \\\\ & Y |1 \\rangle = -i|0 \\rangle \\end{aligned} | \\begin{bmatrix} 0 & -i \\\\ i & 0 \\end{bmatrix} |\n",
    "| $Z$ | \\begin{aligned} & Z |0 \\rangle = |0 \\rangle \\\\ & Z |1 \\rangle = -|1 \\rangle \\end{aligned} | \\begin{bmatrix} 1 & 0 \\\\ 0 & -1 \\end{bmatrix} |\n",
    "| $S=\\sqrt{X}$ | \\begin{aligned} & S |0 \\rangle = |0 \\rangle \\\\ & S |1 \\rangle = i|1 \\rangle \\end{aligned} | \\begin{bmatrix} 1 & 0 \\\\ 0 & i \\end{bmatrix} |\n",
    "| $T=\\sqrt{S}$ | \\begin{aligned} & T |0 \\rangle = |0 \\rangle \\\\ & T |1 \\rangle = e^\\frac{\\pi i}{4} |1 \\rangle \\end{aligned} | \\begin{bmatrix} 1 & 0 \\\\ 0 & e^\\frac{\\pi i}{4} \\end{bmatrix} |\n",
    "| Hadamard $H$ | \\begin{aligned} & H |0 \\rangle = \\frac{1}{\\sqrt{2}} (|0 \\rangle + |1 \\rangle) \\\\ & H |1 \\rangle = \\frac{1}{\\sqrt{2}} (|0 \\rangle - |1 \\rangle) \\end{aligned} | $\\frac{1}{\\sqrt{2}}\\begin{bmatrix} 1 & 1 \\\\ 1 & -1 \\end{bmatrix}$ |\n"
   ]
  },
  {
   "cell_type": "code",
   "execution_count": 1,
   "id": "ada0ff63-b254-4dae-9180-a8680ea95b37",
   "metadata": {},
   "outputs": [],
   "source": [
    "from qiskit import QuantumCircuit\n",
    "from qiskit.quantum_info import Statevector\n",
    "\n",
    "from qiskit_aer import AerSimulator\n",
    "import numpy as np"
   ]
  },
  {
   "cell_type": "markdown",
   "id": "e727a161-232f-4e97-808c-ffcab27c42d3",
   "metadata": {},
   "source": [
    "### I ゲートの場合"
   ]
  },
  {
   "cell_type": "markdown",
   "id": "fad84a9e-15cf-47ec-8698-c61a9e2dcedc",
   "metadata": {},
   "source": [
    "#### $I|0\\rangle$の計算"
   ]
  },
  {
   "cell_type": "code",
   "execution_count": 2,
   "id": "62379bcd-684d-4b94-932d-669e74972a66",
   "metadata": {},
   "outputs": [
    {
     "data": {
      "image/png": "[encoded data removed]",
      "text/plain": [
       "<Figure size 436.286x117.056 with 1 Axes>"
      ]
     },
     "execution_count": 2,
     "metadata": {},
     "output_type": "execute_result"
    }
   ],
   "source": [
    "# １量子ビットの量子回路を作る\n",
    "qc = QuantumCircuit(1)\n",
    "\n",
    "# 初期状態ベクトルを定義 (|0⟩を設定)\n",
    "initial_state = [1, 0]\n",
    "\n",
    "# Statevectorを使って量子状態を設定\n",
    "state = Statevector(initial_state)\n",
    "qc.initialize(state, 0)\n",
    "\n",
    "# I gate を作用させ、結果を状態ベクトルで残す\n",
    "qc.id(0)\n",
    "qc.save_statevector()\n",
    "\n",
    "qc.draw('mpl')"
   ]
  },
  {
   "cell_type": "markdown",
   "id": "df779d7a-82e6-4d5c-8bc7-208dee5a5bd0",
   "metadata": {},
   "source": [
    "#### AerSimulator (Statevector simulator)での実行"
   ]
  },
  {
   "cell_type": "code",
   "execution_count": 3,
   "id": "9a696429-62ff-4b25-8f3c-b982fa249e9f",
   "metadata": {},
   "outputs": [
    {
     "name": "stdout",
     "output_type": "stream",
     "text": [
      "状態ベクトル:\n",
      "Statevector([1.+0.j, 0.+0.j],\n",
      "            dims=(2,))\n"
     ]
    }
   ],
   "source": [
    "# Statevector Simulatorの準備\n",
    "simulator = AerSimulator(method='statevector')\n",
    "\n",
    "# シミュレータでの実行\n",
    "job = simulator.run(qc)\n",
    "\n",
    "# 結果の取得\n",
    "result = job.result()\n",
    "\n",
    "# 状態ベクトルの取得\n",
    "statevector = result.get_statevector()\n",
    "\n",
    "# 状態ベクトルの表示\n",
    "print(\"状態ベクトル:\")\n",
    "print(statevector)"
   ]
  },
  {
   "cell_type": "code",
   "execution_count": 4,
   "id": "5b81d792-883e-411d-8b4f-e46d55a4c403",
   "metadata": {},
   "outputs": [
    {
     "data": {
      "text/latex": [
       "$$ |0\\rangle$$"
      ],
      "text/plain": [
       "<IPython.core.display.Latex object>"
      ]
     },
     "execution_count": 4,
     "metadata": {},
     "output_type": "execute_result"
    }
   ],
   "source": [
    "statevector.draw('latex')"
   ]
  },
  {
   "cell_type": "markdown",
   "id": "f2abf5df-5ce2-4926-a37d-65be8f9ae5fd",
   "metadata": {},
   "source": [
    "#### $I|1\\rangle$の計算"
   ]
  },
  {
   "cell_type": "code",
   "execution_count": 5,
   "id": "ac36d4fc-61a6-4ac9-93b3-7bd1c7bd95d1",
   "metadata": {},
   "outputs": [
    {
     "data": {
      "image/png": "[encoded data removed]",
      "text/plain": [
       "<Figure size 436.286x117.056 with 1 Axes>"
      ]
     },
     "execution_count": 5,
     "metadata": {},
     "output_type": "execute_result"
    }
   ],
   "source": [
    "# １量子ビットの量子回路を作る\n",
    "qc = QuantumCircuit(1)\n",
    "\n",
    "# 初期状態ベクトルを定義 (|1⟩を設定)\n",
    "initial_state = [0, 1]\n",
    "\n",
    "# Statevectorを使って量子状態を設定\n",
    "state = Statevector(initial_state)\n",
    "qc.initialize(state, 0)\n",
    "\n",
    "# I gate を作用させ、結果を状態ベクトルで残す\n",
    "qc.id(0)\n",
    "qc.save_statevector()\n",
    "\n",
    "qc.draw('mpl')"
   ]
  },
  {
   "cell_type": "markdown",
   "id": "d5252970-a26b-43c6-b83d-42d86bd0e6d1",
   "metadata": {},
   "source": [
    "#### AerSimulator (Statevector simulator)での実行"
   ]
  },
  {
   "cell_type": "code",
   "execution_count": 6,
   "id": "049fce43-d2ba-4656-8ead-71cb1fce1db8",
   "metadata": {},
   "outputs": [
    {
     "name": "stdout",
     "output_type": "stream",
     "text": [
      "状態ベクトル:\n",
      "Statevector([0.+0.j, 1.+0.j],\n",
      "            dims=(2,))\n"
     ]
    }
   ],
   "source": [
    "# Statevector Simulatorの準備\n",
    "simulator = AerSimulator(method='statevector')\n",
    "\n",
    "# シミュレータでの実行\n",
    "job = simulator.run(qc)\n",
    "\n",
    "# 結果の取得\n",
    "result = job.result()\n",
    "\n",
    "# 状態ベクトルの取得\n",
    "statevector = result.get_statevector()\n",
    "\n",
    "# 状態ベクトルの表示\n",
    "print(\"状態ベクトル:\")\n",
    "print(statevector)"
   ]
  },
  {
   "cell_type": "code",
   "execution_count": 7,
   "id": "7db22bb2-ed4c-4e5b-923f-5e5f286010cc",
   "metadata": {},
   "outputs": [
    {
     "data": {
      "text/latex": [
       "$$ |1\\rangle$$"
      ],
      "text/plain": [
       "<IPython.core.display.Latex object>"
      ]
     },
     "execution_count": 7,
     "metadata": {},
     "output_type": "execute_result"
    }
   ],
   "source": [
    "statevector.draw('latex')"
   ]
  },
  {
   "cell_type": "markdown",
   "id": "8eac18a6-cdff-4ae7-b26b-c303d4864b81",
   "metadata": {},
   "source": [
    "### X ゲートの場合"
   ]
  },
  {
   "cell_type": "markdown",
   "id": "0347e130-b432-44ad-add5-0447004be016",
   "metadata": {},
   "source": [
    "#### $X|0\\rangle$の計算"
   ]
  },
  {
   "cell_type": "code",
   "execution_count": 8,
   "id": "0467e98f-1560-4f6d-ac63-be5dc0ffcc6e",
   "metadata": {},
   "outputs": [
    {
     "data": {
      "image/png": "[encoded data removed]",
      "text/plain": [
       "<Figure size 436.286x117.056 with 1 Axes>"
      ]
     },
     "execution_count": 8,
     "metadata": {},
     "output_type": "execute_result"
    }
   ],
   "source": [
    "# １量子ビットの量子回路を作る\n",
    "qc = QuantumCircuit(1)\n",
    "\n",
    "# 初期状態ベクトルを定義 (|0⟩を設定)\n",
    "initial_state = [1, 0]\n",
    "\n",
    "# Statevectorを使って量子状態を設定\n",
    "state = Statevector(initial_state)\n",
    "qc.initialize(state, 0)\n",
    "\n",
    "# X gate を作用させ、結果を状態ベクトルで残す\n",
    "qc.x(0)\n",
    "qc.save_statevector()\n",
    "\n",
    "qc.draw('mpl')"
   ]
  },
  {
   "cell_type": "markdown",
   "id": "5c9721d7-6526-4489-b5ee-da7e343ed8bc",
   "metadata": {},
   "source": [
    "#### AerSimulator (Statevector simulator)での実行"
   ]
  },
  {
   "cell_type": "code",
   "execution_count": 9,
   "id": "93600ea0-431e-4ea5-9dc5-a021a2c5ef6b",
   "metadata": {},
   "outputs": [
    {
     "name": "stdout",
     "output_type": "stream",
     "text": [
      "状態ベクトル:\n",
      "Statevector([0.+0.j, 1.+0.j],\n",
      "            dims=(2,))\n"
     ]
    }
   ],
   "source": [
    "# Statevector Simulatorの準備\n",
    "simulator = AerSimulator(method='statevector')\n",
    "\n",
    "# シミュレータでの実行\n",
    "job = simulator.run(qc)\n",
    "\n",
    "# 結果の取得\n",
    "result = job.result()\n",
    "\n",
    "# 状態ベクトルの取得\n",
    "statevector = result.get_statevector()\n",
    "\n",
    "# 状態ベクトルの表示\n",
    "print(\"状態ベクトル:\")\n",
    "print(statevector)"
   ]
  },
  {
   "cell_type": "code",
   "execution_count": 10,
   "id": "5959c48a-847c-4812-8b9d-1c286c9f52e1",
   "metadata": {},
   "outputs": [
    {
     "data": {
      "text/latex": [
       "$$ |1\\rangle$$"
      ],
      "text/plain": [
       "<IPython.core.display.Latex object>"
      ]
     },
     "execution_count": 10,
     "metadata": {},
     "output_type": "execute_result"
    }
   ],
   "source": [
    "statevector.draw('latex')"
   ]
  },
  {
   "cell_type": "markdown",
   "id": "6afefb88-ae1b-459e-aa3b-40dc61020e71",
   "metadata": {},
   "source": [
    "#### $X|1\\rangle$の計算"
   ]
  },
  {
   "cell_type": "code",
   "execution_count": 11,
   "id": "a1bf0dce-8809-4866-b087-201e2382f435",
   "metadata": {},
   "outputs": [
    {
     "data": {
      "image/png": "[encoded data removed]",
      "text/plain": [
       "<Figure size 436.286x117.056 with 1 Axes>"
      ]
     },
     "execution_count": 11,
     "metadata": {},
     "output_type": "execute_result"
    }
   ],
   "source": [
    "# １量子ビットの量子回路を作る\n",
    "qc = QuantumCircuit(1)\n",
    "\n",
    "# 初期状態ベクトルを定義 (|1⟩を設定)\n",
    "initial_state = [0, 1]\n",
    "\n",
    "# Statevectorを使って量子状態を設定\n",
    "state = Statevector(initial_state)\n",
    "qc.initialize(state, 0)\n",
    "\n",
    "# X gate を作用させ、結果を状態ベクトルで残す\n",
    "qc.x(0)\n",
    "qc.save_statevector()\n",
    "\n",
    "qc.draw('mpl')"
   ]
  },
  {
   "cell_type": "markdown",
   "id": "7809e49b-5f00-491d-ab06-bab50029c7c6",
   "metadata": {},
   "source": [
    "#### AerSimulator (Statevector simulator)での実行"
   ]
  },
  {
   "cell_type": "code",
   "execution_count": 12,
   "id": "cd18c500-3e84-43f1-8608-9df4704e4022",
   "metadata": {},
   "outputs": [
    {
     "name": "stdout",
     "output_type": "stream",
     "text": [
      "状態ベクトル:\n",
      "Statevector([1.+0.j, 0.+0.j],\n",
      "            dims=(2,))\n"
     ]
    }
   ],
   "source": [
    "# Statevector Simulatorの準備\n",
    "simulator = AerSimulator(method='statevector')\n",
    "\n",
    "# シミュレータでの実行\n",
    "job = simulator.run(qc)\n",
    "\n",
    "# 結果の取得\n",
    "result = job.result()\n",
    "\n",
    "# 状態ベクトルの取得\n",
    "statevector = result.get_statevector()\n",
    "\n",
    "# 状態ベクトルの表示\n",
    "print(\"状態ベクトル:\")\n",
    "print(statevector)"
   ]
  },
  {
   "cell_type": "code",
   "execution_count": 13,
   "id": "4c487040-b374-49ee-a71d-50448eba9d15",
   "metadata": {},
   "outputs": [
    {
     "data": {
      "text/latex": [
       "$$ |0\\rangle$$"
      ],
      "text/plain": [
       "<IPython.core.display.Latex object>"
      ]
     },
     "execution_count": 13,
     "metadata": {},
     "output_type": "execute_result"
    }
   ],
   "source": [
    "statevector.draw('latex')"
   ]
  },
  {
   "cell_type": "markdown",
   "id": "b9aee061-f56c-4471-a7a7-19d3cbfe982c",
   "metadata": {},
   "source": [
    "### Y ゲートの場合"
   ]
  },
  {
   "cell_type": "markdown",
   "id": "45d88a94-1528-454f-9f98-4fc48b611eee",
   "metadata": {},
   "source": [
    "#### $Y|0\\rangle$の計算"
   ]
  },
  {
   "cell_type": "code",
   "execution_count": 14,
   "id": "b0d6def4-6d4e-4774-928c-d70129090df9",
   "metadata": {},
   "outputs": [
    {
     "data": {
      "image/png": "[encoded data removed]",
      "text/plain": [
       "<Figure size 436.286x117.056 with 1 Axes>"
      ]
     },
     "execution_count": 14,
     "metadata": {},
     "output_type": "execute_result"
    }
   ],
   "source": [
    "# １量子ビットの量子回路を作る\n",
    "qc = QuantumCircuit(1)\n",
    "\n",
    "# 初期状態ベクトルを定義 (|0⟩を設定)\n",
    "initial_state = [1, 0]\n",
    "\n",
    "# Statevectorを使って量子状態を設定\n",
    "state = Statevector(initial_state)\n",
    "qc.initialize(state, 0)\n",
    "\n",
    "# Y gate を作用させ、結果を状態ベクトルで残す\n",
    "qc.y(0)\n",
    "qc.save_statevector()\n",
    "\n",
    "qc.draw('mpl')"
   ]
  },
  {
   "cell_type": "markdown",
   "id": "76007b32-57bb-4add-bb9e-8bd89bfe744c",
   "metadata": {},
   "source": [
    "#### AerSimulator (Statevector simulator)での実行"
   ]
  },
  {
   "cell_type": "code",
   "execution_count": 15,
   "id": "c95d6107-0978-41d3-9894-107afb80ed18",
   "metadata": {},
   "outputs": [
    {
     "name": "stdout",
     "output_type": "stream",
     "text": [
      "状態ベクトル:\n",
      "Statevector([0.-0.j, 0.+1.j],\n",
      "            dims=(2,))\n"
     ]
    }
   ],
   "source": [
    "# Statevector Simulatorの準備\n",
    "simulator = AerSimulator(method='statevector')\n",
    "\n",
    "# シミュレータでの実行\n",
    "job = simulator.run(qc)\n",
    "\n",
    "# 結果の取得\n",
    "result = job.result()\n",
    "\n",
    "# 状態ベクトルの取得\n",
    "statevector = result.get_statevector()\n",
    "\n",
    "# 状態ベクトルの表示\n",
    "print(\"状態ベクトル:\")\n",
    "print(statevector)"
   ]
  },
  {
   "cell_type": "code",
   "execution_count": 16,
   "id": "cc142867-7797-4d7a-98b1-bc9739b3c74e",
   "metadata": {},
   "outputs": [
    {
     "data": {
      "text/latex": [
       "$$i |1\\rangle$$"
      ],
      "text/plain": [
       "<IPython.core.display.Latex object>"
      ]
     },
     "execution_count": 16,
     "metadata": {},
     "output_type": "execute_result"
    }
   ],
   "source": [
    "statevector.draw('latex')"
   ]
  },
  {
   "cell_type": "markdown",
   "id": "3a58a7ab-5adf-4022-b7ec-811915f1a2a8",
   "metadata": {},
   "source": [
    "#### $Y|1\\rangle$の計算"
   ]
  },
  {
   "cell_type": "code",
   "execution_count": 17,
   "id": "5d6be0bc-b8ee-4bbb-af60-e93f3876d2ed",
   "metadata": {},
   "outputs": [
    {
     "data": {
      "image/png": "[encoded data removed]",
      "text/plain": [
       "<Figure size 436.286x117.056 with 1 Axes>"
      ]
     },
     "execution_count": 17,
     "metadata": {},
     "output_type": "execute_result"
    }
   ],
   "source": [
    "# １量子ビットの量子回路を作る\n",
    "qc = QuantumCircuit(1)\n",
    "\n",
    "# 初期状態ベクトルを定義 (|1⟩を設定)\n",
    "initial_state = [0, 1]\n",
    "\n",
    "# Statevectorを使って量子状態を設定\n",
    "state = Statevector(initial_state)\n",
    "qc.initialize(state, 0)\n",
    "\n",
    "# Y gate を作用させ、結果を状態ベクトルで残す\n",
    "qc.y(0)\n",
    "qc.save_statevector()\n",
    "\n",
    "qc.draw('mpl')"
   ]
  },
  {
   "cell_type": "markdown",
   "id": "2e96eb7e-c22f-4cb7-9d68-0ae011e1cc67",
   "metadata": {},
   "source": [
    "#### AerSimulator (Statevector simulator)での実行"
   ]
  },
  {
   "cell_type": "code",
   "execution_count": 18,
   "id": "e3cc0cbe-e71f-4503-9260-083ca64868b7",
   "metadata": {},
   "outputs": [
    {
     "name": "stdout",
     "output_type": "stream",
     "text": [
      "状態ベクトル:\n",
      "Statevector([0.-1.j, 0.+0.j],\n",
      "            dims=(2,))\n"
     ]
    }
   ],
   "source": [
    "# Statevector Simulatorの準備\n",
    "simulator = AerSimulator(method='statevector')\n",
    "\n",
    "# シミュレータでの実行\n",
    "job = simulator.run(qc)\n",
    "\n",
    "# 結果の取得\n",
    "result = job.result()\n",
    "\n",
    "# 状態ベクトルの取得\n",
    "statevector = result.get_statevector()\n",
    "\n",
    "# 状態ベクトルの表示\n",
    "print(\"状態ベクトル:\")\n",
    "print(statevector)"
   ]
  },
  {
   "cell_type": "code",
   "execution_count": 19,
   "id": "688bbc0f-ec5d-4c6a-a861-eeecdc20a8dd",
   "metadata": {},
   "outputs": [
    {
     "data": {
      "text/latex": [
       "$$- i |0\\rangle$$"
      ],
      "text/plain": [
       "<IPython.core.display.Latex object>"
      ]
     },
     "execution_count": 19,
     "metadata": {},
     "output_type": "execute_result"
    }
   ],
   "source": [
    "statevector.draw('latex')"
   ]
  },
  {
   "cell_type": "markdown",
   "id": "8415a9c0-243f-4fe2-b155-6d14b892e22c",
   "metadata": {},
   "source": [
    "### Z ゲートの場合"
   ]
  },
  {
   "cell_type": "markdown",
   "id": "b86391e7-af61-41a2-ac01-e1c0ba0b333b",
   "metadata": {},
   "source": [
    "#### $Z|0\\rangle$の計算"
   ]
  },
  {
   "cell_type": "code",
   "execution_count": 20,
   "id": "e5bf3de9-a2bd-4f51-8633-dafe82c75339",
   "metadata": {},
   "outputs": [
    {
     "data": {
      "image/png": "[encoded data removed]",
      "text/plain": [
       "<Figure size 436.286x117.056 with 1 Axes>"
      ]
     },
     "execution_count": 20,
     "metadata": {},
     "output_type": "execute_result"
    }
   ],
   "source": [
    "# １量子ビットの量子回路を作る\n",
    "qc = QuantumCircuit(1)\n",
    "\n",
    "# 初期状態ベクトルを定義 (|0⟩を設定)\n",
    "initial_state = [1, 0]\n",
    "\n",
    "# Statevectorを使って量子状態を設定\n",
    "state = Statevector(initial_state)\n",
    "qc.initialize(state, 0)\n",
    "\n",
    "# Z gate を作用させ、結果を状態ベクトルで残す\n",
    "qc.z(0)\n",
    "qc.save_statevector()\n",
    "\n",
    "qc.draw('mpl')"
   ]
  },
  {
   "cell_type": "markdown",
   "id": "34ea40da-922d-4e42-8823-57dd76b0af2d",
   "metadata": {},
   "source": [
    "#### AerSimulator (Statevector simulator)での実行"
   ]
  },
  {
   "cell_type": "code",
   "execution_count": 21,
   "id": "4cf71448-42f2-4aa4-8323-5eb406b43370",
   "metadata": {},
   "outputs": [
    {
     "name": "stdout",
     "output_type": "stream",
     "text": [
      "状態ベクトル:\n",
      "Statevector([ 1.+0.j, -0.+0.j],\n",
      "            dims=(2,))\n"
     ]
    }
   ],
   "source": [
    "# Statevector Simulatorの準備\n",
    "simulator = AerSimulator(method='statevector')\n",
    "\n",
    "# シミュレータでの実行\n",
    "job = simulator.run(qc)\n",
    "\n",
    "# 結果の取得\n",
    "result = job.result()\n",
    "\n",
    "# 状態ベクトルの取得\n",
    "statevector = result.get_statevector()\n",
    "\n",
    "# 状態ベクトルの表示\n",
    "print(\"状態ベクトル:\")\n",
    "print(statevector)"
   ]
  },
  {
   "cell_type": "code",
   "execution_count": 22,
   "id": "28afc65a-cb9d-4adc-9052-23482f0de999",
   "metadata": {},
   "outputs": [
    {
     "data": {
      "text/latex": [
       "$$ |0\\rangle$$"
      ],
      "text/plain": [
       "<IPython.core.display.Latex object>"
      ]
     },
     "execution_count": 22,
     "metadata": {},
     "output_type": "execute_result"
    }
   ],
   "source": [
    "statevector.draw('latex')"
   ]
  },
  {
   "cell_type": "markdown",
   "id": "585bf219-607c-40d8-a510-eb9f5ead1777",
   "metadata": {},
   "source": [
    "#### $Z|1\\rangle$の計算"
   ]
  },
  {
   "cell_type": "code",
   "execution_count": 23,
   "id": "1dd2e364-8901-4023-bb27-7b78c4ab070f",
   "metadata": {},
   "outputs": [
    {
     "data": {
      "image/png": "[encoded data removed]",
      "text/plain": [
       "<Figure size 436.286x117.056 with 1 Axes>"
      ]
     },
     "execution_count": 23,
     "metadata": {},
     "output_type": "execute_result"
    }
   ],
   "source": [
    "# １量子ビットの量子回路を作る\n",
    "qc = QuantumCircuit(1)\n",
    "\n",
    "# 初期状態ベクトルを定義 (|1⟩を設定)\n",
    "initial_state = [0, 1]\n",
    "\n",
    "# Statevectorを使って量子状態を設定\n",
    "state = Statevector(initial_state)\n",
    "qc.initialize(state, 0)\n",
    "\n",
    "# Z gate を作用させ、結果を状態ベクトルで残す\n",
    "qc.z(0)\n",
    "qc.save_statevector()\n",
    "\n",
    "qc.draw('mpl')"
   ]
  },
  {
   "cell_type": "markdown",
   "id": "9ff39d58-0c02-4055-9cf0-74869a8fdb31",
   "metadata": {},
   "source": [
    "#### AerSimulator (Statevector simulator)での実行"
   ]
  },
  {
   "cell_type": "code",
   "execution_count": 24,
   "id": "839c149a-5bc4-4f8b-884d-48409b2d6fc7",
   "metadata": {},
   "outputs": [
    {
     "name": "stdout",
     "output_type": "stream",
     "text": [
      "状態ベクトル:\n",
      "Statevector([ 0.+0.j, -1.+0.j],\n",
      "            dims=(2,))\n"
     ]
    }
   ],
   "source": [
    "# Statevector Simulatorの準備\n",
    "simulator = AerSimulator(method='statevector')\n",
    "\n",
    "# シミュレータでの実行\n",
    "job = simulator.run(qc)\n",
    "\n",
    "# 結果の取得\n",
    "result = job.result()\n",
    "\n",
    "# 状態ベクトルの取得\n",
    "statevector = result.get_statevector()\n",
    "\n",
    "# 状態ベクトルの表示\n",
    "print(\"状態ベクトル:\")\n",
    "print(statevector)"
   ]
  },
  {
   "cell_type": "code",
   "execution_count": 25,
   "id": "fe22b60c-79ba-4e3b-9822-5c5c128cd066",
   "metadata": {},
   "outputs": [
    {
     "data": {
      "text/latex": [
       "$$- |1\\rangle$$"
      ],
      "text/plain": [
       "<IPython.core.display.Latex object>"
      ]
     },
     "execution_count": 25,
     "metadata": {},
     "output_type": "execute_result"
    }
   ],
   "source": [
    "statevector.draw('latex')"
   ]
  },
  {
   "cell_type": "markdown",
   "id": "77456c5b-0668-42cd-beba-1360a7cc3d07",
   "metadata": {},
   "source": [
    "### S ゲートの場合"
   ]
  },
  {
   "cell_type": "markdown",
   "id": "808eee31-c29f-41e4-818f-01b19ff22071",
   "metadata": {},
   "source": [
    "#### $S|0\\rangle$の計算"
   ]
  },
  {
   "cell_type": "code",
   "execution_count": 26,
   "id": "8428c37d-da66-4f3a-9576-24f844a60c2a",
   "metadata": {},
   "outputs": [
    {
     "data": {
      "image/png": "[encoded data removed]",
      "text/plain": [
       "<Figure size 436.286x117.056 with 1 Axes>"
      ]
     },
     "execution_count": 26,
     "metadata": {},
     "output_type": "execute_result"
    }
   ],
   "source": [
    "# １量子ビットの量子回路を作る\n",
    "qc = QuantumCircuit(1)\n",
    "\n",
    "# 初期状態ベクトルを定義 (|0⟩を設定)\n",
    "initial_state = [1, 0]\n",
    "\n",
    "# Statevectorを使って量子状態を設定\n",
    "state = Statevector(initial_state)\n",
    "qc.initialize(state, 0)\n",
    "\n",
    "# S gate を作用させ、結果を状態ベクトルで残す\n",
    "qc.s(0)\n",
    "qc.save_statevector()\n",
    "\n",
    "qc.draw('mpl')"
   ]
  },
  {
   "cell_type": "markdown",
   "id": "d1606b63-b914-47fa-b2e3-46474f6c4f95",
   "metadata": {},
   "source": [
    "#### AerSimulator (Statevector simulator)での実行"
   ]
  },
  {
   "cell_type": "code",
   "execution_count": 27,
   "id": "ab3cba13-d3ef-4d65-a757-519accd1ada2",
   "metadata": {},
   "outputs": [
    {
     "name": "stdout",
     "output_type": "stream",
     "text": [
      "状態ベクトル:\n",
      "Statevector([1.+0.j, 0.+0.j],\n",
      "            dims=(2,))\n"
     ]
    }
   ],
   "source": [
    "# Statevector Simulatorの準備\n",
    "simulator = AerSimulator(method='statevector')\n",
    "\n",
    "# シミュレータでの実行\n",
    "job = simulator.run(qc)\n",
    "\n",
    "# 結果の取得\n",
    "result = job.result()\n",
    "\n",
    "# 状態ベクトルの取得\n",
    "statevector = result.get_statevector()\n",
    "\n",
    "# 状態ベクトルの表示\n",
    "print(\"状態ベクトル:\")\n",
    "print(statevector)"
   ]
  },
  {
   "cell_type": "code",
   "execution_count": 28,
   "id": "df64c304-eda7-4403-ba5b-2f5495eeb06e",
   "metadata": {},
   "outputs": [
    {
     "data": {
      "text/latex": [
       "$$ |0\\rangle$$"
      ],
      "text/plain": [
       "<IPython.core.display.Latex object>"
      ]
     },
     "execution_count": 28,
     "metadata": {},
     "output_type": "execute_result"
    }
   ],
   "source": [
    "statevector.draw('latex')"
   ]
  },
  {
   "cell_type": "markdown",
   "id": "abaf8e74-b823-44cb-ad0b-ba0fe215baf9",
   "metadata": {},
   "source": [
    "#### $S|1\\rangle$の計算"
   ]
  },
  {
   "cell_type": "code",
   "execution_count": 29,
   "id": "19c74142-4e30-4f38-972c-28571c54fe25",
   "metadata": {},
   "outputs": [
    {
     "data": {
      "image/png": "[encoded data removed]",
      "text/plain": [
       "<Figure size 436.286x117.056 with 1 Axes>"
      ]
     },
     "execution_count": 29,
     "metadata": {},
     "output_type": "execute_result"
    }
   ],
   "source": [
    "# １量子ビットの量子回路を作る\n",
    "qc = QuantumCircuit(1)\n",
    "\n",
    "# 初期状態ベクトルを定義 (|1⟩を設定)\n",
    "initial_state = [0, 1]\n",
    "\n",
    "# Statevectorを使って量子状態を設定\n",
    "state = Statevector(initial_state)\n",
    "qc.initialize(state, 0)\n",
    "\n",
    "# S gate を作用させ、結果を状態ベクトルで残す\n",
    "qc.s(0)\n",
    "qc.save_statevector()\n",
    "\n",
    "qc.draw('mpl')"
   ]
  },
  {
   "cell_type": "markdown",
   "id": "12dd1c4f-12e9-4050-9754-3345c3cd82a7",
   "metadata": {},
   "source": [
    "#### AerSimulator (Statevector simulator)での実行"
   ]
  },
  {
   "cell_type": "code",
   "execution_count": 30,
   "id": "90fe9dd2-5898-410c-a464-1a8ff714662d",
   "metadata": {},
   "outputs": [
    {
     "name": "stdout",
     "output_type": "stream",
     "text": [
      "状態ベクトル:\n",
      "Statevector([0.+0.j, 0.+1.j],\n",
      "            dims=(2,))\n"
     ]
    }
   ],
   "source": [
    "# Statevector Simulatorの準備\n",
    "simulator = AerSimulator(method='statevector')\n",
    "\n",
    "# シミュレータでの実行\n",
    "job = simulator.run(qc)\n",
    "\n",
    "# 結果の取得\n",
    "result = job.result()\n",
    "\n",
    "# 状態ベクトルの取得\n",
    "statevector = result.get_statevector()\n",
    "\n",
    "# 状態ベクトルの表示\n",
    "print(\"状態ベクトル:\")\n",
    "print(statevector)"
   ]
  },
  {
   "cell_type": "code",
   "execution_count": 31,
   "id": "7ed3e2fe-1b09-413c-8b23-db55335b40bd",
   "metadata": {},
   "outputs": [
    {
     "data": {
      "text/latex": [
       "$$i |1\\rangle$$"
      ],
      "text/plain": [
       "<IPython.core.display.Latex object>"
      ]
     },
     "execution_count": 31,
     "metadata": {},
     "output_type": "execute_result"
    }
   ],
   "source": [
    "statevector.draw('latex')"
   ]
  },
  {
   "cell_type": "markdown",
   "id": "97c1f31a-d903-493b-98e8-7d254a6d8ca9",
   "metadata": {},
   "source": [
    "### Tゲートの場合"
   ]
  },
  {
   "cell_type": "markdown",
   "id": "e9ce5cfe-27f6-4278-b3a5-15d625c78d22",
   "metadata": {},
   "source": [
    "#### $T|0\\rangle$の計算"
   ]
  },
  {
   "cell_type": "code",
   "execution_count": 32,
   "id": "59d386bc-9564-457e-b380-a3fa9c089d85",
   "metadata": {},
   "outputs": [
    {
     "data": {
      "image/png": "[encoded data removed]",
      "text/plain": [
       "<Figure size 436.286x117.056 with 1 Axes>"
      ]
     },
     "execution_count": 32,
     "metadata": {},
     "output_type": "execute_result"
    }
   ],
   "source": [
    "# １量子ビットの量子回路を作る\n",
    "qc = QuantumCircuit(1)\n",
    "\n",
    "# 初期状態ベクトルを定義 (|0⟩を設定)\n",
    "initial_state = [1, 0]\n",
    "\n",
    "# Statevectorを使って量子状態を設定\n",
    "state = Statevector(initial_state)\n",
    "qc.initialize(state, 0)\n",
    "\n",
    "# T gate を作用させ、結果を状態ベクトルで残す\n",
    "qc.t(0)\n",
    "qc.save_statevector()\n",
    "\n",
    "qc.draw('mpl')"
   ]
  },
  {
   "cell_type": "markdown",
   "id": "364fc05a-940d-4b07-81f5-400fc5ebb988",
   "metadata": {},
   "source": [
    "#### AerSimulator (Statevector simulator)での実行"
   ]
  },
  {
   "cell_type": "code",
   "execution_count": 33,
   "id": "4e1a16e6-bfae-4125-92d0-1ab4d298a548",
   "metadata": {},
   "outputs": [
    {
     "name": "stdout",
     "output_type": "stream",
     "text": [
      "状態ベクトル:\n",
      "Statevector([1.+0.j, 0.+0.j],\n",
      "            dims=(2,))\n"
     ]
    }
   ],
   "source": [
    "# Statevector Simulatorの準備\n",
    "simulator = AerSimulator(method='statevector')\n",
    "\n",
    "# シミュレータでの実行\n",
    "job = simulator.run(qc)\n",
    "\n",
    "# 結果の取得\n",
    "result = job.result()\n",
    "\n",
    "# 状態ベクトルの取得\n",
    "statevector = result.get_statevector()\n",
    "\n",
    "# 状態ベクトルの表示\n",
    "print(\"状態ベクトル:\")\n",
    "print(statevector)"
   ]
  },
  {
   "cell_type": "code",
   "execution_count": 34,
   "id": "5c1d7d1b-e477-4282-9e14-7ae74e55bd25",
   "metadata": {},
   "outputs": [
    {
     "data": {
      "text/latex": [
       "$$ |0\\rangle$$"
      ],
      "text/plain": [
       "<IPython.core.display.Latex object>"
      ]
     },
     "execution_count": 34,
     "metadata": {},
     "output_type": "execute_result"
    }
   ],
   "source": [
    "statevector.draw('latex')"
   ]
  },
  {
   "cell_type": "markdown",
   "id": "2f667ada-e5fa-4d36-9fb8-9f8643f12acc",
   "metadata": {},
   "source": [
    "#### $T|1\\rangle$の計算"
   ]
  },
  {
   "cell_type": "code",
   "execution_count": 35,
   "id": "4f8f86dd-59c5-4eca-924b-93280fccce2d",
   "metadata": {},
   "outputs": [
    {
     "data": {
      "image/png": "[encoded data removed]",
      "text/plain": [
       "<Figure size 436.286x117.056 with 1 Axes>"
      ]
     },
     "execution_count": 35,
     "metadata": {},
     "output_type": "execute_result"
    }
   ],
   "source": [
    "# １量子ビットの量子回路を作る\n",
    "qc = QuantumCircuit(1)\n",
    "\n",
    "# 初期状態ベクトルを定義 (|1⟩を設定)\n",
    "initial_state = [0, 1]\n",
    "\n",
    "# Statevectorを使って量子状態を設定\n",
    "state = Statevector(initial_state)\n",
    "qc.initialize(state, 0)\n",
    "\n",
    "# X gate を作用させ、結果を状態ベクトルで残す\n",
    "qc.t(0)\n",
    "qc.save_statevector()\n",
    "\n",
    "qc.draw('mpl')"
   ]
  },
  {
   "cell_type": "markdown",
   "id": "f1b2055d-b73a-4070-9998-62e50d4d970a",
   "metadata": {},
   "source": [
    "#### AerSimulator (Statevector simulator)での実行"
   ]
  },
  {
   "cell_type": "code",
   "execution_count": 36,
   "id": "ac350eef-1818-4122-b96c-a1c150536721",
   "metadata": {},
   "outputs": [
    {
     "name": "stdout",
     "output_type": "stream",
     "text": [
      "状態ベクトル:\n",
      "Statevector([0.        +0.j        , 0.70710678+0.70710678j],\n",
      "            dims=(2,))\n"
     ]
    }
   ],
   "source": [
    "# Statevector Simulatorの準備\n",
    "simulator = AerSimulator(method='statevector')\n",
    "\n",
    "# シミュレータでの実行\n",
    "job = simulator.run(qc)\n",
    "\n",
    "# 結果の取得\n",
    "result = job.result()\n",
    "\n",
    "# 状態ベクトルの取得\n",
    "statevector = result.get_statevector()\n",
    "\n",
    "# 状態ベクトルの表示\n",
    "print(\"状態ベクトル:\")\n",
    "print(statevector)"
   ]
  },
  {
   "cell_type": "code",
   "execution_count": 37,
   "id": "b7f07c70-2614-435c-bad9-d8645ec238eb",
   "metadata": {},
   "outputs": [
    {
     "data": {
      "text/latex": [
       "$$(\\frac{\\sqrt{2}}{2} + \\frac{\\sqrt{2} i}{2}) |1\\rangle$$"
      ],
      "text/plain": [
       "<IPython.core.display.Latex object>"
      ]
     },
     "execution_count": 37,
     "metadata": {},
     "output_type": "execute_result"
    }
   ],
   "source": [
    "statevector.draw('latex')"
   ]
  },
  {
   "cell_type": "markdown",
   "id": "3a23c02d-94a4-4cb6-92fe-63225f32a74c",
   "metadata": {},
   "source": [
    "### H ゲートの場合"
   ]
  },
  {
   "cell_type": "markdown",
   "id": "c93ae931-f4de-4d5f-a20b-234569a970d3",
   "metadata": {},
   "source": [
    "#### $H|0\\rangle$の計算"
   ]
  },
  {
   "cell_type": "code",
   "execution_count": 38,
   "id": "840e4002-79d6-4ce5-9288-a4a27e29b11d",
   "metadata": {},
   "outputs": [
    {
     "data": {
      "image/png": "[encoded data removed]",
      "text/plain": [
       "<Figure size 436.286x117.056 with 1 Axes>"
      ]
     },
     "execution_count": 38,
     "metadata": {},
     "output_type": "execute_result"
    }
   ],
   "source": [
    "# １量子ビットの量子回路を作る\n",
    "qc = QuantumCircuit(1)\n",
    "\n",
    "# 初期状態ベクトルを定義 (|0⟩を設定)\n",
    "initial_state = [1, 0]\n",
    "\n",
    "# Statevectorを使って量子状態を設定\n",
    "state = Statevector(initial_state)\n",
    "qc.initialize(state, 0)\n",
    "\n",
    "# H gate を作用させ、結果を状態ベクトルで残す\n",
    "qc.h(0)\n",
    "qc.save_statevector()\n",
    "\n",
    "qc.draw('mpl')"
   ]
  },
  {
   "cell_type": "markdown",
   "id": "2577552d-d621-4f3d-bba4-3dd72caa4d96",
   "metadata": {},
   "source": [
    "#### AerSimulator (Statevector simulator)での実行"
   ]
  },
  {
   "cell_type": "code",
   "execution_count": 39,
   "id": "35d59590-27d7-4f71-a277-dfc0a36a3581",
   "metadata": {},
   "outputs": [
    {
     "name": "stdout",
     "output_type": "stream",
     "text": [
      "状態ベクトル:\n",
      "Statevector([0.70710678+0.j, 0.70710678+0.j],\n",
      "            dims=(2,))\n"
     ]
    }
   ],
   "source": [
    "# Statevector Simulatorの準備\n",
    "simulator = AerSimulator(method='statevector')\n",
    "\n",
    "# シミュレータでの実行\n",
    "job = simulator.run(qc)\n",
    "\n",
    "# 結果の取得\n",
    "result = job.result()\n",
    "\n",
    "# 状態ベクトルの取得\n",
    "statevector = result.get_statevector()\n",
    "\n",
    "# 状態ベクトルの表示\n",
    "print(\"状態ベクトル:\")\n",
    "print(statevector)"
   ]
  },
  {
   "cell_type": "code",
   "execution_count": 40,
   "id": "3f7fd2c7-3244-43b1-8ca6-9e3f20617878",
   "metadata": {},
   "outputs": [
    {
     "data": {
      "text/latex": [
       "$$\\frac{\\sqrt{2}}{2} |0\\rangle+\\frac{\\sqrt{2}}{2} |1\\rangle$$"
      ],
      "text/plain": [
       "<IPython.core.display.Latex object>"
      ]
     },
     "execution_count": 40,
     "metadata": {},
     "output_type": "execute_result"
    }
   ],
   "source": [
    "statevector.draw('latex')"
   ]
  },
  {
   "cell_type": "markdown",
   "id": "9b3b2a12-c558-477f-978e-b4be7c2ef232",
   "metadata": {},
   "source": [
    "#### $H|1\\rangle$の計算"
   ]
  },
  {
   "cell_type": "code",
   "execution_count": 41,
   "id": "2e4de4bb-40f9-4c6e-836d-6348e474539c",
   "metadata": {},
   "outputs": [
    {
     "data": {
      "image/png": "[encoded data removed]",
      "text/plain": [
       "<Figure size 436.286x117.056 with 1 Axes>"
      ]
     },
     "execution_count": 41,
     "metadata": {},
     "output_type": "execute_result"
    }
   ],
   "source": [
    "# １量子ビットの量子回路を作る\n",
    "qc = QuantumCircuit(1)\n",
    "\n",
    "# 初期状態ベクトルを定義 (|1⟩を設定)\n",
    "initial_state = [0, 1]\n",
    "\n",
    "# Statevectorを使って量子状態を設定\n",
    "state = Statevector(initial_state)\n",
    "qc.initialize(state, 0)\n",
    "\n",
    "# H gate を作用させ、結果を状態ベクトルで残す\n",
    "qc.h(0)\n",
    "qc.save_statevector()\n",
    "\n",
    "qc.draw('mpl')"
   ]
  },
  {
   "cell_type": "markdown",
   "id": "09d5286f-503f-4537-9217-988090f2586f",
   "metadata": {},
   "source": [
    "#### AerSimulator (Statevector simulator)での実行"
   ]
  },
  {
   "cell_type": "code",
   "execution_count": 42,
   "id": "89ea1560-82a5-438c-a969-72f5d2f4ecdb",
   "metadata": {},
   "outputs": [
    {
     "name": "stdout",
     "output_type": "stream",
     "text": [
      "状態ベクトル:\n",
      "Statevector([ 0.70710678-8.65956056e-17j, -0.70710678+8.65956056e-17j],\n",
      "            dims=(2,))\n"
     ]
    }
   ],
   "source": [
    "# Statevector Simulatorの準備\n",
    "simulator = AerSimulator(method='statevector')\n",
    "\n",
    "# シミュレータでの実行\n",
    "job = simulator.run(qc)\n",
    "\n",
    "# 結果の取得\n",
    "result = job.result()\n",
    "\n",
    "# 状態ベクトルの取得\n",
    "statevector = result.get_statevector()\n",
    "\n",
    "# 状態ベクトルの表示\n",
    "print(\"状態ベクトル:\")\n",
    "print(statevector)"
   ]
  },
  {
   "cell_type": "code",
   "execution_count": 43,
   "id": "e562e2be-a1d5-4673-8aa5-dcf9d09a6a9b",
   "metadata": {},
   "outputs": [
    {
     "data": {
      "text/latex": [
       "$$\\frac{\\sqrt{2}}{2} |0\\rangle- \\frac{\\sqrt{2}}{2} |1\\rangle$$"
      ],
      "text/plain": [
       "<IPython.core.display.Latex object>"
      ]
     },
     "execution_count": 43,
     "metadata": {},
     "output_type": "execute_result"
    }
   ],
   "source": [
    "statevector.draw('latex')"
   ]
  },
  {
   "cell_type": "markdown",
   "id": "5508a28b-1369-4863-90ad-26399b20844d",
   "metadata": {},
   "source": [
    "---"
   ]
  },
  {
   "cell_type": "markdown",
   "id": "cd092fa1-b654-4e76-bab1-fb087c08a818",
   "metadata": {},
   "source": [
    "####　Python, Qiskitのバージョン情報"
   ]
  },
  {
   "cell_type": "code",
   "execution_count": 44,
   "id": "50b77c26-45f4-4c81-8185-740adbac0df5",
   "metadata": {},
   "outputs": [
    {
     "name": "stdout",
     "output_type": "stream",
     "text": [
      "3.12.3 (tags/v3.12.3:f6650f9, Apr  9 2024, 14:05:25) [MSC v.1938 64 bit (AMD64)]\n"
     ]
    }
   ],
   "source": [
    "import sys\n",
    "print(sys.version)"
   ]
  },
  {
   "cell_type": "code",
   "execution_count": 45,
   "id": "f284dd0b-29ad-4c8c-87b1-cdf052d31e30",
   "metadata": {},
   "outputs": [
    {
     "name": "stdout",
     "output_type": "stream",
     "text": [
      "Qiskit version: 1.2.4\n"
     ]
    }
   ],
   "source": [
    "import qiskit\n",
    "print(\"Qiskit version:\", qiskit.__version__)"
   ]
  }
 ],
 "metadata": {
  "kernelspec": {
   "display_name": "Python 3 (ipykernel)",
   "language": "python",
   "name": "python3"
  },
  "language_info": {
   "codemirror_mode": {
    "name": "ipython",
    "version": 3
   },
   "file_extension": ".py",
   "mimetype": "text/x-python",
   "name": "python",
   "nbconvert_exporter": "python",
   "pygments_lexer": "ipython3",
   "version": "3.12.3"
  }
 },
 "nbformat": 4,
 "nbformat_minor": 5
}
